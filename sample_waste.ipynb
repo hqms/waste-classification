{
 "cells": [
  {
   "cell_type": "code",
   "execution_count": 7,
   "id": "ba3e42fa-1a8f-4ea6-b0e7-f87ea5bb99ed",
   "metadata": {},
   "outputs": [
    {
     "name": "stdout",
     "output_type": "stream",
     "text": [
      "Predicted class: battery\n"
     ]
    }
   ],
   "source": [
    "from transformers import ViTImageProcessor, ViTForImageClassification\n",
    "from PIL import Image\n",
    "import requests, os\n",
    "\n",
    "CWD = os.path.abspath(os.getcwd())\n",
    "\n",
    "os.environ['HF_HUB_CACHE'] = os.path.join(CWD, 'hf_cache')\n",
    "\n",
    "image = Image.open(os.path.join(CWD, 'Battery-Recycle.jpg'))\n",
    "\n",
    "processor = ViTImageProcessor.from_pretrained('watersplash/waste-classification')\n",
    "model = ViTForImageClassification.from_pretrained('watersplash/waste-classification')\n",
    "\n",
    "inputs = processor(images=image, return_tensors=\"pt\")\n",
    "outputs = model(**inputs)\n",
    "logits = outputs.logits\n",
    "# model predicts one of the 1000 ImageNet classes\n",
    "predicted_class_idx = logits.argmax(-1).item()\n",
    "print(\"Predicted class:\", model.config.id2label[predicted_class_idx])\n"
   ]
  },
  {
   "cell_type": "code",
   "execution_count": null,
   "id": "7883a7ff-cb62-4ee1-99e6-c9717c9c73f2",
   "metadata": {},
   "outputs": [],
   "source": []
  }
 ],
 "metadata": {
  "kernelspec": {
   "display_name": "Python 3 (ipykernel)",
   "language": "python",
   "name": "python3"
  },
  "language_info": {
   "codemirror_mode": {
    "name": "ipython",
    "version": 3
   },
   "file_extension": ".py",
   "mimetype": "text/x-python",
   "name": "python",
   "nbconvert_exporter": "python",
   "pygments_lexer": "ipython3",
   "version": "3.11.7"
  }
 },
 "nbformat": 4,
 "nbformat_minor": 5
}
